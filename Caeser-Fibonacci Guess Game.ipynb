{
 "cells": [
  {
   "cell_type": "markdown",
   "id": "4ebe8474",
   "metadata": {},
   "source": [
    "#                             Caeser-Fibonacci Guess Game"
   ]
  },
  {
   "cell_type": "markdown",
   "id": "5946db75",
   "metadata": {},
   "source": [
    "## Needed libraries"
   ]
  },
  {
   "cell_type": "code",
   "execution_count": 15,
   "id": "b8ef25be",
   "metadata": {},
   "outputs": [],
   "source": [
    "import random\n",
    "import time\n",
    "import matplotlib.pyplot as plt\n",
    "import numpy as np"
   ]
  },
  {
   "cell_type": "code",
   "execution_count": 3,
   "id": "37f98183",
   "metadata": {},
   "outputs": [
    {
     "name": "stdout",
     "output_type": "stream",
     "text": [
      "[1, 1, 2, 3, 5, 8, 13, 21, 34, 55, 89, 144, 233, 377, 610, 987, 1597, 2584]\n"
     ]
    }
   ],
   "source": [
    "fibonacci =[1,1]\n",
    "for i in range(0,16):\n",
    "    fibonacci.append(fibonacci[i]+fibonacci[i+1])\n",
    "print(fibonacci)"
   ]
  },
  {
   "cell_type": "markdown",
   "id": "d4adcb23",
   "metadata": {},
   "source": [
    "## Words and Hints lists"
   ]
  },
  {
   "cell_type": "code",
   "execution_count": 4,
   "id": "4d9f2a89",
   "metadata": {},
   "outputs": [],
   "source": [
    "words=[\"tea\",]\n",
    "hints=[\"some thing you drink in the morning\",]"
   ]
  },
  {
   "cell_type": "markdown",
   "id": "7d659c08",
   "metadata": {},
   "source": [
    "## secret word"
   ]
  },
  {
   "cell_type": "code",
   "execution_count": 5,
   "id": "eaeb0999",
   "metadata": {},
   "outputs": [
    {
     "name": "stdout",
     "output_type": "stream",
     "text": [
      "tea : some thing you drink in the morning\n"
     ]
    }
   ],
   "source": [
    "secret_index=random.randrange(0,len(words))\n",
    "secret_word=words[secret_index]\n",
    "secret_hint=hints[secret_index]\n",
    "print(secret_word,\":\" ,secret_hint)"
   ]
  },
  {
   "cell_type": "markdown",
   "id": "a1d69c1e",
   "metadata": {},
   "source": [
    "## shifting direction and value lists"
   ]
  },
  {
   "cell_type": "code",
   "execution_count": 6,
   "id": "66e7760f",
   "metadata": {},
   "outputs": [],
   "source": [
    "shift_directions=[\"➡️\" ,\"⬅️\"]\n",
    "shift_values=[row+col ,fibonacci[row] , col**2 , 8+5*9/3 , 40 ,\n",
    "              row+col ,fibonacci[row] , col**2 , 8+5*9/3 , 40 ,\n",
    "              row+col ,fibonacci[row] , col**2 , 8+5*9/3 , 40 , 74\n",
    "              ]\n",
    "shift_values_str=['row+col' ,'fibonacci[row]' , 'col**2' , '8+5*9/3' , '40' ,\n",
    "              'row+col' ,'fibonacci[row]' , 'col**2' , '8+5*9/3' , '40' ,\n",
    "              'row+col' ,'fibonacci[row]' , 'col**2' , '8+5*9/3' , '40' , '74'\n",
    "              ]"
   ]
  },
  {
   "cell_type": "markdown",
   "id": "15913ddc",
   "metadata": {},
   "source": [
    "## Encryption of the secret word"
   ]
  },
  {
   "cell_type": "code",
   "execution_count": 7,
   "id": "b4e91d9c",
   "metadata": {},
   "outputs": [],
   "source": [
    "alphabet= list('abcdefghijklmnopqrstuvwxyz')\n",
    "\n",
    "def Encryption(word , dirc , val):\n",
    "    word=list(word)\n",
    "    for i in range(len(word)):\n",
    "        if dirc[i]==\"➡️\":\n",
    "            new_letter_index=(alphabet.index(word[i]) + val[i]) % 26    \n",
    "            word[i] = alphabet[int(new_letter_index)]\n",
    "        else:\n",
    "            new_letter_index=(alphabet.index(word[i]) - val[i]) % 26   \n",
    "            word[i] = alphabet[int(new_letter_index)]\n",
    "        \n",
    "    return \"\".join(word)"
   ]
  },
  {
   "cell_type": "markdown",
   "id": "62d361de",
   "metadata": {},
   "source": [
    "## Let's see how many points you will collect in 5 minutes ! 💪 👾"
   ]
  },
  {
   "cell_type": "code",
   "execution_count": 8,
   "id": "134794df",
   "metadata": {},
   "outputs": [
    {
     "name": "stdout",
     "output_type": "stream",
     "text": [
      "Let's see how many points you will collect in 5 minutes ! 💪 👾 \n"
     ]
    }
   ],
   "source": [
    "print(\"Let's see how many points you will collect in 5 minutes ! 💪 👾 \")"
   ]
  },
  {
   "cell_type": "markdown",
   "id": "1a1dff42",
   "metadata": {},
   "source": [
    "## Starting a turn !"
   ]
  },
  {
   "cell_type": "code",
   "execution_count": 59,
   "id": "6857a899",
   "metadata": {},
   "outputs": [
    {
     "name": "stdout",
     "output_type": "stream",
     "text": [
      "9 3\n",
      "[[0. 0. 0. 0. 0. 0. 0. 0. 0.]\n",
      " [0. 0. 0. 0. 0. 0. 0. 0. 0.]\n",
      " [0. 0. 0. 0. 0. 0. 0. 0. 0.]\n",
      " [0. 0. 0. 0. 0. 0. 0. 0. 0.]\n",
      " [0. 0. 0. 0. 0. 0. 0. 0. 0.]\n",
      " [0. 0. 0. 0. 0. 0. 0. 0. 0.]\n",
      " [0. 0. 0. 0. 0. 0. 0. 0. 0.]\n",
      " [0. 0. 0. 0. 0. 0. 0. 0. 0.]\n",
      " [0. 0. 8. 0. 0. 0. 0. 0. 0.]]   some thing you drink in the morning \n",
      "\n",
      "['➡️', '⬅️', '⬅️'] \n",
      "\n",
      "['40', 'fibonacci[row]', '8+5*9/3']\n",
      " hrd\n",
      "Guess a letter  ***>h\n",
      "Great , you can do it!\n",
      "Guess a letter  h**>r\n",
      "Great , you can do it!\n",
      "Guess a letter  hr*>d\n",
      "YOU WON!\n",
      "💥💥💥💥💥💥💥💥💥💥💥💥💥💥💥💥\n",
      "9 4\n",
      "[[0. 0. 0. 0. 0. 0. 0. 0. 0.]\n",
      " [0. 0. 0. 0. 0. 0. 0. 0. 0.]\n",
      " [0. 0. 0. 0. 0. 0. 0. 0. 0.]\n",
      " [0. 0. 0. 0. 0. 0. 0. 0. 0.]\n",
      " [0. 0. 0. 0. 0. 0. 0. 0. 0.]\n",
      " [0. 0. 0. 0. 0. 0. 0. 0. 0.]\n",
      " [0. 0. 0. 0. 0. 0. 0. 0. 0.]\n",
      " [0. 0. 0. 0. 0. 0. 0. 0. 0.]\n",
      " [0. 0. 0. 8. 0. 0. 0. 0. 0.]]   some thing you drink in the morning \n",
      "\n",
      "['⬅️', '➡️', '➡️'] \n",
      "\n",
      "['40', 'col**2', '8+5*9/3']\n",
      " fhx\n",
      "Guess a letter  ***>\n",
      "Try another letter\n",
      "Guess a letter  ***>\n",
      "Try another letter\n",
      "Guess a letter  ***>\n",
      "Try another letter\n",
      "Guess a letter  ***>\n",
      "Try another letter\n",
      "Guess a letter  ***>\n",
      "Guess a letter  ***>\n",
      "Try another letter\n",
      "Guess a letter  ***>\n",
      "Try another letter\n",
      "Guess a letter  ***>\n",
      "Try another letter\n",
      "Try another letter\n",
      "Guess a letter  ***>\n",
      "Try another letter\n",
      "Guess a letter  ***>\n",
      "Try another letter\n",
      "Guess a letter  ***>\n",
      "Try another letter\n",
      "Guess a letter  ***>\n",
      "Guess a letter  ***>\n",
      "Try another letter\n",
      "Try another letter\n",
      "Guess a letter  ***>\n",
      "Try another letter\n",
      "Guess a letter  ***>\n",
      "Try another letter\n",
      "Guess a letter  ***>\n",
      "Try another letter\n",
      "Guess a letter  ***>\n",
      "Guess a letter  ***>\n",
      "Try another letter\n",
      "Try another letter\n",
      "Guess a letter  ***>\n",
      "Try another letter\n",
      "Guess a letter  ***>\n",
      "Guess a letter  ***>\n",
      "Try another letter\n",
      "Try another letter\n",
      "Guess a letter  ***>\n",
      "Try another letter\n",
      "Guess a letter  ***>\n",
      "Try another letter\n",
      "Guess a letter  ***>\n",
      "Guess a letter  ***>\n",
      "Try another letter\n",
      "Try another letter\n",
      "Guess a letter  ***>\n",
      "Guess a letter  ***>\n",
      "Try another letter\n",
      "Try another letter\n",
      "Guess a letter  ***>\n",
      "Try another letter\n",
      "Guess a letter  ***>\n",
      "Try another letter\n",
      "Guess a letter  ***>\n",
      "Try another letter\n",
      "Guess a letter  ***>\n",
      "Try another letter\n",
      "Guess a letter  ***>\n",
      "Try another letter\n",
      "Guess a letter  ***>\n",
      "Try another letter\n",
      "Guess a letter  ***>\n",
      "Guess a letter  ***>\n",
      "Try another letter\n",
      "Try another letter\n",
      "Guess a letter  ***>\n",
      "Try another letter\n",
      "Guess a letter  ***>\n",
      "Try another letter\n",
      "Guess a letter  ***>\n",
      "Try another letter\n",
      "Guess a letter  ***>\n",
      "Try another letter\n",
      "Guess a letter  ***>\n",
      "Try another letter\n",
      "Guess a letter  ***>\n",
      "Guess a letter  ***>\n",
      "Try another letter\n",
      "Try another letter\n",
      "Guess a letter  ***>\n",
      "Try another letter\n",
      "Guess a letter  ***>\n",
      "Guess a letter  ***>\n",
      "Try another letter\n",
      "Guess a letter  ***>\n",
      "Try another letter\n",
      "Try another letter\n",
      "Guess a letter  ***>\n",
      "Try another letter\n",
      "Guess a letter  ***>\n",
      "Try another letter\n",
      "Guess a letter  ***>\n",
      "Try another letter\n",
      "Guess a letter  ***>h\n",
      "Great , you can do it!\n",
      "Guess a letter  *h*>l\n",
      "Try another letter\n",
      "Guess a letter  *h*>;\n",
      "Try another letter\n",
      "Guess a letter  *h*>;\n",
      "Try another letter\n",
      "Guess a letter  *h*>;\n",
      "Try another letter\n",
      "Guess a letter  *h*>;\n",
      "Try another letter\n",
      "Guess a letter  *h*>;;;\n",
      "Try another letter\n",
      "Guess a letter  *h*>m\n",
      "Try another letter\n",
      "Guess a letter  *h*>f\n",
      "Time out\n",
      "YOUR SCORE IS :  20\n",
      "[64, 1, 0, 3, 35, 102, 40, 15, 20, 85, 30, 95]\n",
      "Rank 1 : 102 \n",
      "Rank 2 : 95 \n",
      "Rank 3 : 85 \n",
      "Rank 4 : 64 \n",
      "Rank 5 : 40 \n"
     ]
    }
   ],
   "source": [
    "timeout = 30  # [seconds]\n",
    "timeout_start = time.time()\n",
    "score=0\n",
    "\n",
    "while time.time() < timeout_start + timeout:\n",
    "    # Generate random row an column number\n",
    "    row , col = (random.randint(1,9) , random.randint(1,9))\n",
    "    print(row , col)\n",
    "\n",
    "    #Selecting turn directions and values \n",
    "    turn_directions=[]\n",
    "    turn_values=[]\n",
    "    turn_str_vals=[]\n",
    "    random_val_indices=[random.randrange(0, len(shift_values), 1) for i in range(len(secret_word))]\n",
    "    arr= np.zeros((9,9))\n",
    "    arr[row-1,col-1]=8\n",
    "    \n",
    "\n",
    "    for i in range(len(secret_word)):\n",
    "        turn_directions.append(random.choice(shift_directions))\n",
    "        turn_values.append(shift_values[random_val_indices[i]])\n",
    "        turn_str_vals.append(shift_values_str[random_val_indices[i]])\n",
    "    \n",
    "    print(arr,\" \",secret_hint,\"\\n\")\n",
    "    print(turn_directions,\"\\n\")\n",
    "    print(turn_str_vals)\n",
    "\n",
    "    encrypted_word=Encryption(secret_word,turn_directions,turn_values)\n",
    "    print(\"\",encrypted_word)\n",
    "\n",
    "    #Starting guessing the encrypted_secret_word\n",
    "    stars = \"*\" * len(encrypted_word)\n",
    "    listOfstars= list(stars)\n",
    "    listOfEncydWord=list(encrypted_word)\n",
    "    is_won=False\n",
    "    while time.time() < timeout_start + timeout:\n",
    "        if is_won :\n",
    "            break\n",
    "        \n",
    "        ans=input(\"Guess a letter  \" + stars + \">\")\n",
    "       \n",
    "        if time.time() < timeout_start + timeout:\n",
    "            if ans in listOfEncydWord:\n",
    "                score+=5\n",
    "                indices_of_ans=[i for i , x in enumerate(listOfEncydWord) if x==ans]\n",
    "                for i in range(len(indices_of_ans)):\n",
    "                    listOfstars[indices_of_ans[i]] = ans\n",
    "                    stars= \"\".join(listOfstars)\n",
    "                    if \"*\" not in stars: \n",
    "                        print(\"YOU WON!\")\n",
    "                        print(\"💥💥💥💥💥💥💥💥💥💥💥💥💥💥💥💥\")\n",
    "                        is_won=True\n",
    "                    else:\n",
    "                        print(\"Great , you can do it!\")\n",
    "            else:\n",
    "                 print(\"Try another letter\")\n",
    "        else:\n",
    "            print(\"Time out\")\n",
    "            \n",
    "            \n",
    "            \n",
    "print(\"YOUR SCORE IS : \", score)\n",
    "\n",
    "#Saving scores for ranking\n",
    "\n",
    "# open file\n",
    "with open('scores.txt', 'a') as f:\n",
    "\n",
    "\t# write elements of list\n",
    "\tf.write(str('%s \\n' % score))\n",
    "\n",
    "# close the file\n",
    "f.close()\n",
    "\n",
    "a_file = open(\"scores.txt\", \"r\")\n",
    "\n",
    "scores =list(set([int(line.strip()) for line in a_file]))\n",
    "\n",
    "a_file.close()\n",
    "\n",
    "print(scores)\n",
    "\n",
    "\n",
    "#Ranking\n",
    "for i in range(5):\n",
    "    player=\"\"\n",
    "    r= max(scores)\n",
    "    scores.remove(r)\n",
    "    if score==r:\n",
    "        player=\"Wow!That it is you ! 👏\"\n",
    "    print(\"Rank\",i+1 ,\":\", r,player)\n",
    "    "
   ]
  }
 ],
 "metadata": {
  "kernelspec": {
   "display_name": "Python 3",
   "language": "python",
   "name": "python3"
  },
  "language_info": {
   "codemirror_mode": {
    "name": "ipython",
    "version": 3
   },
   "file_extension": ".py",
   "mimetype": "text/x-python",
   "name": "python",
   "nbconvert_exporter": "python",
   "pygments_lexer": "ipython3",
   "version": "3.8.8"
  }
 },
 "nbformat": 4,
 "nbformat_minor": 5
}
