{
 "cells": [
  {
   "cell_type": "markdown",
   "id": "4ebe8474",
   "metadata": {},
   "source": [
    "#                              Guess & Encrypt Game"
   ]
  },
  {
   "attachments": {},
   "cell_type": "markdown",
   "id": "3a25ce10",
   "metadata": {},
   "source": [
    "# Game Rules 👉\n",
    "\n",
    "# 1️⃣ I'll give you a riddle.\n",
    "### e.g.\"some thing you drink in the morning of 3 letters\" \n",
    "\n",
    "# 2️⃣ You guess the right word in your head.\n",
    "### e.g. \"tea\"\n",
    "\n",
    "# 3️⃣Then you shift each letter by directions and values below.\n",
    "### e.g.  t                e                 a  \n",
    "\n",
    "###       ['⬅️',      '⬅️',       '➡️']  =  👉  ['forward',  'backword', 'forward']\n",
    "\n",
    "###       ['col**2',  '8+5*9/3', 'fibonacci[row]']     =  👉  ['36',  '23', '1']\n",
    "\n",
    "###        t became j ✔️   e became h ✔️  a became b✔️\n",
    "         \n",
    "#                                                    *   NOTES   *\n",
    "## ⚠️ fibonacci = [0, 1, 1, 2, 3, 5, 8, 13, 21, 34, 55, 89, 144, 233, 377, 610, 987, 1597, 2584,...]\n",
    "### each number is the sum of the two previous numbers.\n",
    "\n",
    "## ⚠️Value of row & col is the index of the non-zero number in the given array.\n",
    "### here row = 1 & col = 6 \n",
    "\n",
    " [  [0. 0. 0. 0. 0. 8. 0. 0. 0.]                                                                                           \n",
    "    [0. 0. 0. 0. 0. 0. 0. 0. 0.]                                                                                           \n",
    "    [0. 0. 0. 0. 0. 0. 0. 0. 0.]                                                                                           \n",
    "    [0. 0. 0. 0. 0. 0. 0. 0. 0.]                                                                                           \n",
    "    [0. 0. 0. 0. 0. 0. 0. 0. 0.]                                                                                           \n",
    "    [0. 0. 0. 0. 0. 0. 0. 0. 0.]                                                                                           \n",
    "    [0. 0. 0. 0. 0. 0. 0. 0. 0.]                                                                                           \n",
    "    [0. 0. 0. 0. 0. 0. 0. 0. 0.]                                                                                           \n",
    "    [0. 0. 0. 0. 0. 0. 0. 0. 0.]                                                                                          ]\n",
    "\n",
    "\n",
    "\n",
    "# 4️⃣ Type the letters of the encypted gussed word one by one.\n",
    "\n",
    "### e.g. \n",
    "###         b\n",
    "###         h\n",
    "###         j\n",
    "\n",
    "# 5️⃣ Do this over 5 minutes,collect as many points as you can and try break the record of other players!\n",
    "\n",
    "\n",
    "#                                     LET'S HAVE FUN 🤸‍♀️\n",
    "\n",
    "         \n",
    "\n"
   ]
  },
  {
   "cell_type": "markdown",
   "id": "5946db75",
   "metadata": {},
   "source": [
    "## Needed libraries"
   ]
  },
  {
   "cell_type": "code",
   "execution_count": 90,
   "id": "b8ef25be",
   "metadata": {},
   "outputs": [],
   "source": [
    "import random\n",
    "import time\n",
    "import numpy as np"
   ]
  },
  {
   "cell_type": "markdown",
   "id": "403ba889",
   "metadata": {},
   "source": [
    "## Generate Fibonacci Sequence"
   ]
  },
  {
   "cell_type": "code",
   "execution_count": 91,
   "id": "37f98183",
   "metadata": {},
   "outputs": [
    {
     "name": "stdout",
     "output_type": "stream",
     "text": [
      "[0, 1, 1, 2, 3, 5, 8, 13, 21, 34, 55, 89, 144, 233, 377, 610, 987, 1597, 2584]\n"
     ]
    }
   ],
   "source": [
    "fibonacci =[0,1,1]\n",
    "for i in range(1,17):\n",
    "    fibonacci.append(fibonacci[i]+fibonacci[i+1])\n",
    "print(fibonacci)"
   ]
  },
  {
   "cell_type": "markdown",
   "id": "d4adcb23",
   "metadata": {},
   "source": [
    "## Words and Hints lists"
   ]
  },
  {
   "cell_type": "code",
   "execution_count": 92,
   "id": "4d9f2a89",
   "metadata": {},
   "outputs": [
    {
     "name": "stdout",
     "output_type": "stream",
     "text": [
      "19 19\n"
     ]
    }
   ],
   "source": [
    "words=[\"tea\",'coin', 'F', 'clock', 'egg', 'towel', 'echo',  'barber', 'hole', 'window', 'staircase', 'david','fire',\n",
    "       'piano', 'dice', 'mirror', 'charcoal', 'shirt', 'water',\n",
    "       \n",
    "      \n",
    "      ]\n",
    "riddles=[\"some thing you drink in the morning\",\n",
    "       \"I have a tail and a head but no body. What am I?\",\n",
    "\"What’s the capital of France?\",\n",
    "\"What has hands and a face but can’t hold anything or smile?\",\n",
    "\"What has to be broken before you can use it?\",\n",
    "\"What gets wet while drying?\",\n",
    "\"What can’t talk but will reply when spoken to?\",\n",
    "\"I shave every day but my beard stays the same. What am I?\",\n",
    "\"What gets bigger when more is taken away?\",\n",
    "\"What invention lets you look right through a wall?\",\n",
    "\"What goes up and down but doesn’t move?\",\n",
    "\"David's father has three sons: Snap, Crackle, and ___?\",\n",
    "\"I am not alive but I grow; I don't have lungs but I need air; I don't have a mouth but water kills me. What am I?\",\n",
    "\"What has many keys but can't even open a single door?\",\n",
    "\"What has six faces but does not wear makeup has twenty-one eyes but cannot see?\",\n",
    "\"I make two people out of one. What am I?\",\n",
    "\"What is black when you buy it, red when you use it, and gray when you throw it away?\",\n",
    "\"What has a neck but no head two arms but no hands?\",\n",
    "\"Always in you Sometimes on you;If I surround you, I can kill you.What am I?\"]\n",
    "print(len(words) ,len(riddles))"
   ]
  },
  {
   "cell_type": "markdown",
   "id": "15913ddc",
   "metadata": {},
   "source": [
    "## Encryption of the secret word"
   ]
  },
  {
   "cell_type": "code",
   "execution_count": 93,
   "id": "b4e91d9c",
   "metadata": {},
   "outputs": [],
   "source": [
    "alphabet= list('abcdefghijklmnopqrstuvwxyz')\n",
    "\n",
    "def Encryption(word , dirc , val):\n",
    "    word=list(word)\n",
    "    for i in range(len(word)):\n",
    "        if dirc[i]==\"➡️\":\n",
    "            new_letter_index=(alphabet.index(word[i]) + val[i]) % 26    \n",
    "            word[i] = alphabet[int(new_letter_index)]\n",
    "        else:\n",
    "            new_letter_index=(alphabet.index(word[i]) - val[i]) % 26   \n",
    "            word[i] = alphabet[int(new_letter_index)]\n",
    "        \n",
    "    return \"\".join(word)"
   ]
  },
  {
   "cell_type": "markdown",
   "id": "62d361de",
   "metadata": {},
   "source": [
    "## Let's see how many points you will collect in 5 minutes ! 💪 👾"
   ]
  },
  {
   "cell_type": "markdown",
   "id": "1a1dff42",
   "metadata": {},
   "source": [
    "## Starting a turn !"
   ]
  },
  {
   "cell_type": "code",
   "execution_count": null,
   "id": "9a847922",
   "metadata": {
    "scrolled": false
   },
   "outputs": [
    {
     "name": "stdout",
     "output_type": "stream",
     "text": [
      "Riddle :  Always in you Sometimes on you;If I surround you, I can kill you.What am I? (of 5 letters) \n",
      "\n",
      "Directions :  ['⬅️', '➡️', '➡️', '⬅️', '➡️'] \n",
      "\n",
      "Values :  ['row+(col*5)', 'row+col', 'col+col', 'row+(col*5)', 'col**2'] \n",
      "\n",
      "The Array : \n",
      " [[0. 0. 0. 0. 0. 0. 0. 0. 0.]\n",
      " [8. 0. 0. 0. 0. 0. 0. 0. 0.]\n",
      " [0. 0. 0. 0. 0. 0. 0. 0. 0.]\n",
      " [0. 0. 0. 0. 0. 0. 0. 0. 0.]\n",
      " [0. 0. 0. 0. 0. 0. 0. 0. 0.]\n",
      " [0. 0. 0. 0. 0. 0. 0. 0. 0.]\n",
      " [0. 0. 0. 0. 0. 0. 0. 0. 0.]\n",
      " [0. 0. 0. 0. 0. 0. 0. 0. 0.]\n",
      " [0. 0. 0. 0. 0. 0. 0. 0. 0.]]\n"
     ]
    }
   ],
   "source": [
    "timeout =5*60  # [seconds]\n",
    "timeout_start = time.time()\n",
    "score=0\n",
    "\n",
    "while time.time() < timeout_start + timeout:\n",
    "    #Secret word selecting\n",
    "    secret_indices=[i for i in range(len(words))]\n",
    "    secret_index=random.choice(secret_indices)\n",
    "    secret_indices.remove(secret_index)\n",
    "    secret_word=words[secret_index]\n",
    "    secret_riddle=riddles[secret_index]\n",
    "    print(\"Riddle : \",secret_riddle , \"(of \" + str(len(secret_word)) +\" letters)\" ,\"\\n\") \n",
    "    \n",
    "    # Generate random row an column number\n",
    "    row , col = (random.randint(1,9) , random.randint(1,9))\n",
    "    # shifting direction and value lists\n",
    "    shift_directions=[\"➡️\" ,\"⬅️\"]\n",
    "    shift_values=[row+col ,fibonacci[row] , col**2 , 8+5*(9/3) , 40 ,\n",
    "              row+(col*5) ,fibonacci[col] , row , col+col , 1 ,           \n",
    "              ]\n",
    "    shift_values_str=['row+col' ,'fibonacci[row]' , 'col**2' , '8+5*(9/3)' , '40' ,\n",
    "              'row+(col*5)' ,'fibonacci[col]' , 'row' , 'col+col' , 'exp(0)' ,           \n",
    "              ]\n",
    "\n",
    "    #Selecting turn directions and values \n",
    "    turn_directions=[]\n",
    "    turn_values=[]\n",
    "    turn_str_vals=[]\n",
    "    random_val_indices=[random.randrange(0, len(shift_values), 1) for i in range(len(secret_word))]\n",
    "    arr= np.zeros((9,9))\n",
    "    arr[row-1,col-1]=8\n",
    "    for i in range(len(secret_word)):\n",
    "        turn_directions.append(random.choice(shift_directions))\n",
    "        turn_values.append(shift_values[random_val_indices[i]])\n",
    "        turn_str_vals.append(shift_values_str[random_val_indices[i]])\n",
    "    \n",
    "    print(\"Directions : \",turn_directions,\"\\n\")\n",
    "    print(\"Values : \",turn_str_vals,\"\\n\")\n",
    "    print(\"The Array :\",\"\\n\", arr)\n",
    "\n",
    "    encrypted_word=Encryption(secret_word,turn_directions,turn_values)\n",
    "   \n",
    "\n",
    "    #Starting guessing the encrypted_secret_word\n",
    "    stars = \"*\" * len(encrypted_word)\n",
    "    listOfstars= list(stars)\n",
    "    listOfEncydWord=list(encrypted_word)\n",
    "    is_won=False\n",
    "    while time.time() < timeout_start + timeout:\n",
    "        if is_won :\n",
    "            break\n",
    "        \n",
    "        ans=(input(\"Guess a letter  \" + stars + \">\")).lower()\n",
    "       \n",
    "        if time.time() < timeout_start + timeout:\n",
    "            if (ans in alphabet):\n",
    "                if ans not in stars :\n",
    "                    if ans in listOfEncydWord:\n",
    "                        score+=5\n",
    "                        indices_of_ans=[i for i , x in enumerate(listOfEncydWord) if x==ans]\n",
    "                        for i in range(len(indices_of_ans)):\n",
    "                            listOfstars[indices_of_ans[i]] = ans\n",
    "                            stars= \"\".join(listOfstars)\n",
    "                        if \"*\" not in stars: \n",
    "                            print(\"YOU WON!\")\n",
    "                            print(\"💥💥💥💥💥💥💥💥💥💥💥💥💥💥💥💥\")\n",
    "                            is_won=True\n",
    "                        else:\n",
    "                            print(\"Great , you can do it!\")\n",
    "                    else:\n",
    "                         print(\"Try another letter\")\n",
    "                    \n",
    "                else:\n",
    "                    print(\"Bad Memory\")\n",
    "                    \n",
    "            else:\n",
    "                print(\"Enter a letter!\")\n",
    "        else:\n",
    "            print(\"Time out\")\n",
    "            \n",
    "            \n",
    "print(\"YOUR SCORE IS:\", score)\n",
    "\n",
    "#Saving scores for ranking\n",
    "\n",
    "with open('scores.txt', 'a') as f:\n",
    "    f.write(str('%s \\n' % score))\n",
    "f.close()\n",
    "\n",
    "a_file = open(\"scores.txt\", \"r\")\n",
    "\n",
    "scores =list(set([int(line.strip()) for line in a_file]))\n",
    "\n",
    "a_file.close()\n",
    "\n",
    "top_five=[]\n",
    "#Ranking\n",
    "for i in range(5):\n",
    "    player=\"\"\n",
    "    r= max(scores)\n",
    "    scores.remove(r)\n",
    "    top_five.append(r)\n",
    "    if score==r:\n",
    "        player=\"Wow!That it is you ! 👏\"\n",
    "    print(\"Rank\",i+1 ,\":\", r,player)\n",
    " \n",
    "if score not in top_five :\n",
    "    print(\"You are out of the top five  , give another try to level up!\")"
   ]
  },
  {
   "cell_type": "code",
   "execution_count": null,
   "id": "2f849e9b",
   "metadata": {},
   "outputs": [],
   "source": []
  }
 ],
 "metadata": {
  "kernelspec": {
   "display_name": "Python 3",
   "language": "python",
   "name": "python3"
  }
 },
 "nbformat": 4,
 "nbformat_minor": 5
}
